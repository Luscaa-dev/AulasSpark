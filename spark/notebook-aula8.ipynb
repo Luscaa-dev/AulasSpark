{
 "cells": [
  {
   "cell_type": "code",
   "execution_count": 21,
   "id": "6ac507bd",
   "metadata": {},
   "outputs": [
    {
     "name": "stdout",
     "output_type": "stream",
     "text": [
      "+--------+-----+-------------+-----------+\n",
      "|    nome|idade| faixa_etaria|idade_dobro|\n",
      "+--------+-----+-------------+-----------+\n",
      "|   Lucas|   25|Entre 25 e 35|         50|\n",
      "| Mariana|   24|  Menor de 25|         48|\n",
      "|Nathalia|   23|  Menor de 25|         46|\n",
      "|   Maria|   59|  Maior de 35|        118|\n",
      "+--------+-----+-------------+-----------+\n",
      "\n"
     ]
    }
   ],
   "source": [
    "# EXPRESSÕES SQL\n",
    "\n",
    "from pyspark.sql.functions import expr\n",
    "\n",
    "df = df.withColumn('idade_dobro', expr('idade * 2'))\n",
    "\n",
    "df.show()"
   ]
  },
  {
   "cell_type": "code",
   "execution_count": 1,
   "id": "7448cb1c",
   "metadata": {},
   "outputs": [
    {
     "ename": "NameError",
     "evalue": "name 'df' is not defined",
     "output_type": "error",
     "traceback": [
      "\u001b[31m---------------------------------------------------------------------------\u001b[39m",
      "\u001b[31mNameError\u001b[39m                                 Traceback (most recent call last)",
      "\u001b[36mCell\u001b[39m\u001b[36m \u001b[39m\u001b[32mIn[1]\u001b[39m\u001b[32m, line 1\u001b[39m\n\u001b[32m----> \u001b[39m\u001b[32m1\u001b[39m df_total = \u001b[43mdf\u001b[49m.count()\n",
      "\u001b[31mNameError\u001b[39m: name 'df' is not defined"
     ]
    }
   ],
   "source": [
    "df_total = df.count()"
   ]
  }
 ],
 "metadata": {
  "kernelspec": {
   "display_name": "Python 3",
   "language": "python",
   "name": "python3"
  },
  "language_info": {
   "codemirror_mode": {
    "name": "ipython",
    "version": 3
   },
   "file_extension": ".py",
   "mimetype": "text/x-python",
   "name": "python",
   "nbconvert_exporter": "python",
   "pygments_lexer": "ipython3",
   "version": "3.12.1"
  }
 },
 "nbformat": 4,
 "nbformat_minor": 5
}
