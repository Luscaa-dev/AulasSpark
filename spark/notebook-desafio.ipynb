{
 "cells": [
  {
   "cell_type": "code",
   "execution_count": null,
   "id": "9dbb2a45",
   "metadata": {},
   "outputs": [
    {
     "name": "stdout",
     "output_type": "stream",
     "text": [
      "Arquivo 'pessoas.csv' criado!\n"
     ]
    }
   ],
   "source": [
    "import pandas as pd\n",
    "\n",
    "nomes = [\n",
    "    \"Ana\", \"Bruno\", \"Carlos\", \"Daniela\", \"Eduardo\", \"Fernanda\", \"Gabriel\", \"Helena\",\n",
    "    \"Igor\", \"Juliana\", \"Kleber\", \"Laura\", \"Marcos\", \"Natália\", \"Otávio\", \"Patrícia\",\n",
    "    \"Rafael\", \"Sabrina\", \"Thiago\", \"Vanessa\"\n",
    "]\n",
    "\n",
    "idades = [\n",
    "    18, 19, 20, 21, 22, 23, 24, 25, 26, 27,\n",
    "    28, 29, 30, 22, 24, 26, 28, 20, 19, 21\n",
    "]\n",
    "\n",
    "dados = {\n",
    "    \"nome\": nomes,\n",
    "    \"idade\": idades,\n",
    "    }\n",
    "\n",
    "df = pd.DataFrame(dados)\n",
    "\n",
    "# SALVA O ARQUIVO\n",
    "\n",
    "df.to_csv(\"pessoas.csv\", index=False)\n",
    "\n",
    "print(\"Arquivo 'pessoas.csv' criado!\")"
   ]
  },
  {
   "cell_type": "code",
   "execution_count": 8,
   "id": "276cba18",
   "metadata": {},
   "outputs": [
    {
     "name": "stdout",
     "output_type": "stream",
     "text": [
      "root\n",
      " |-- nome: string (nullable = true)\n",
      " |-- idade: integer (nullable = true)\n",
      "\n"
     ]
    }
   ],
   "source": [
    "from pyspark.sql import SparkSession\n",
    "\n",
    "spark = SparkSession.builder.appName(\"DesafioAgg\").getOrCreate()\n",
    "\n",
    "df = spark.read.csv(\"pessoas.csv\", header=True, inferSchema=True)\n",
    "\n",
    "df.printSchema()\n"
   ]
  },
  {
   "cell_type": "code",
   "execution_count": 9,
   "id": "66db6d3f",
   "metadata": {},
   "outputs": [
    {
     "name": "stdout",
     "output_type": "stream",
     "text": [
      "+--------+-----+\n",
      "|    nome|idade|\n",
      "+--------+-----+\n",
      "|     Ana|   18|\n",
      "|   Bruno|   19|\n",
      "|  Carlos|   20|\n",
      "| Daniela|   21|\n",
      "| Eduardo|   22|\n",
      "|Fernanda|   23|\n",
      "| Gabriel|   24|\n",
      "|  Helena|   25|\n",
      "|    Igor|   26|\n",
      "| Juliana|   27|\n",
      "|  Kleber|   28|\n",
      "|   Laura|   29|\n",
      "|  Marcos|   30|\n",
      "| Natália|   22|\n",
      "|  Otávio|   24|\n",
      "|Patrícia|   26|\n",
      "|  Rafael|   28|\n",
      "| Sabrina|   20|\n",
      "|  Thiago|   19|\n",
      "| Vanessa|   21|\n",
      "+--------+-----+\n",
      "\n"
     ]
    }
   ],
   "source": [
    "df.show()"
   ]
  },
  {
   "cell_type": "code",
   "execution_count": 12,
   "id": "53a0e6d8",
   "metadata": {},
   "outputs": [
    {
     "name": "stdout",
     "output_type": "stream",
     "text": [
      "Pessoas com menos de 25 anos: \n",
      "+--------+-----+\n",
      "|    nome|idade|\n",
      "+--------+-----+\n",
      "|    Igor|   26|\n",
      "| Juliana|   27|\n",
      "|  Kleber|   28|\n",
      "|   Laura|   29|\n",
      "|  Marcos|   30|\n",
      "|Patrícia|   26|\n",
      "|  Rafael|   28|\n",
      "+--------+-----+\n",
      "\n"
     ]
    }
   ],
   "source": [
    "from pyspark.sql.functions import col\n",
    "\n",
    "print(\"Pessoas com menos de 25 anos: \")\n",
    "df.filter(col(\"idade\") > 25).show()"
   ]
  },
  {
   "cell_type": "code",
   "execution_count": 13,
   "id": "9e86d62a",
   "metadata": {},
   "outputs": [
    {
     "name": "stdout",
     "output_type": "stream",
     "text": [
      "Seleciona a coluna nome: \n",
      "+--------+\n",
      "|    nome|\n",
      "+--------+\n",
      "|     Ana|\n",
      "|   Bruno|\n",
      "|  Carlos|\n",
      "| Daniela|\n",
      "| Eduardo|\n",
      "|Fernanda|\n",
      "| Gabriel|\n",
      "|  Helena|\n",
      "|    Igor|\n",
      "| Juliana|\n",
      "|  Kleber|\n",
      "|   Laura|\n",
      "|  Marcos|\n",
      "| Natália|\n",
      "|  Otávio|\n",
      "|Patrícia|\n",
      "|  Rafael|\n",
      "| Sabrina|\n",
      "|  Thiago|\n",
      "| Vanessa|\n",
      "+--------+\n",
      "\n"
     ]
    }
   ],
   "source": [
    "df_coluna_nome = df.select(\"nome\")\n",
    "print(\"Seleciona a coluna nome: \")\n",
    "df_coluna_nome.show()"
   ]
  },
  {
   "cell_type": "code",
   "execution_count": 16,
   "id": "399014e3",
   "metadata": {},
   "outputs": [
    {
     "name": "stdout",
     "output_type": "stream",
     "text": [
      "Número total de resgistros: 20\n"
     ]
    }
   ],
   "source": [
    "df_total = df.count()\n",
    "\n",
    "print(f\"Número total de resgistros: {df_total}\")"
   ]
  }
 ],
 "metadata": {
  "kernelspec": {
   "display_name": "Python 3",
   "language": "python",
   "name": "python3"
  },
  "language_info": {
   "codemirror_mode": {
    "name": "ipython",
    "version": 3
   },
   "file_extension": ".py",
   "mimetype": "text/x-python",
   "name": "python",
   "nbconvert_exporter": "python",
   "pygments_lexer": "ipython3",
   "version": "3.12.1"
  }
 },
 "nbformat": 4,
 "nbformat_minor": 5
}
